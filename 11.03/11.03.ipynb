{
 "cells": [
  {
   "cell_type": "code",
   "execution_count": null,
   "metadata": {},
   "outputs": [],
   "source": [
    "import numpy as np\n",
    "import matplotlib.pyplot as plt\n",
    "from matplotlib.animation import FuncAnimation"
   ]
  },
  {
   "cell_type": "code",
   "execution_count": null,
   "metadata": {},
   "outputs": [],
   "source": [
    "N = 500\n",
    "L = 100\n",
    "h = L / N\n",
    "T = 100\n",
    "lam = 1\n",
    "rho = 1000\n",
    "tau = h / lam / 50\n",
    "M = round(T / tau)\n",
    "U = np.zeros(N, dtype=[('v', np.float64), ('p', np.float64)])"
   ]
  },
  {
   "cell_type": "code",
   "execution_count": null,
   "metadata": {},
   "outputs": [],
   "source": [
    "def convert(mat, U, f, e):\n",
    "    W = np.zeros(N, dtype=[(e[0], np.float64), (e[1], np.float64)])\n",
    "    for i in range(N):\n",
    "        W[i][e[0]] = U[i][f[0]] * mat[0][0] + U[i][f[1]] * mat[0][1]\n",
    "        W[i][e[1]] = U[i][f[0]] * mat[1][0] + U[i][f[1]] * mat[1][1]\n",
    "    return W"
   ]
  },
  {
   "cell_type": "code",
   "execution_count": null,
   "metadata": {},
   "outputs": [],
   "source": [
    "def p_init(p):\n",
    "    for i in range(N):\n",
    "        if (i * h > 5 * L / 12) and (i * h < 7 * L / 12):\n",
    "            p[i] = 10\n",
    "        else:\n",
    "            p[i] = 0"
   ]
  },
  {
   "cell_type": "code",
   "execution_count": null,
   "metadata": {},
   "outputs": [],
   "source": [
    "def v_init(v):\n",
    "    for i in range(N):\n",
    "        if (i * h > 5 * L / 12) and (i * h < 7 * L / 12) and (0 == 0):\n",
    "            v[i] = 0.01 * rho * lam\n",
    "        else:\n",
    "            v[i] = 0"
   ]
  },
  {
   "cell_type": "code",
   "execution_count": null,
   "metadata": {},
   "outputs": [],
   "source": [
    "def rho_init(L):\n",
    "    return np.array([[0, 1000], [L / 2, 2000], [L, 0]])"
   ]
  },
  {
   "cell_type": "code",
   "execution_count": null,
   "metadata": {},
   "outputs": [],
   "source": [
    "p_init(U['p'])\n",
    "v_init(U['v'])\n"
   ]
  },
  {
   "cell_type": "code",
   "execution_count": null,
   "metadata": {},
   "outputs": [],
   "source": [
    "mat = np.array([[1, -1], [rho * lam, rho * lam]])\n",
    "W = convert(mat, U, f=('v', 'p'), e=('1', '2'))"
   ]
  },
  {
   "cell_type": "code",
   "execution_count": null,
   "metadata": {},
   "outputs": [],
   "source": [
    "def D1_solver(h, N, M, lam, tau, Q_0):\n",
    "    Q = Q_0.copy()\n",
    "    Q_new = np.zeros(N, dtype=[('1', np.float64), ('2', np.float64)])\n",
    "    for j in range(M):\n",
    "        for i in range (1, N):\n",
    "            x_star = -lam * tau\n",
    "            b = Q['2'][i]\n",
    "            a = (Q['2'][i - 1] - b) / (-h)\n",
    "            Q_new['2'][i] = a * x_star + b\n",
    "        for i in range (0, N - 1):\n",
    "            x_star = lam * tau\n",
    "            b = Q['1'][i]\n",
    "            a = (Q['1'][i + 1] - b) / h\n",
    "            Q_new['1'][i] = a * x_star + b\n",
    "        Q_new['2'][0] = -Q_new['1'][0]\n",
    "        Q_new['1'][N - 1] = -Q_new['2'][N - 1] / rho / lam\n",
    "        Q = Q_new\n",
    "    return Q_new"
   ]
  },
  {
   "cell_type": "code",
   "execution_count": null,
   "metadata": {},
   "outputs": [],
   "source": [
    "def geterogen(rho, h, N, L, M, lam, tau, Q_0):\n",
    "    for i in range(rho.size - 1):\n",
    "        D1_solver(h, round(N * (rho[i + 1] - rho[i]) / L), round(M * (rho[i + 1] - rho[i]) / L), lam, tau, Q_0)"
   ]
  },
  {
   "cell_type": "code",
   "execution_count": null,
   "metadata": {},
   "outputs": [],
   "source": [
    "W_new = np.zeros(N, dtype=[('1', np.float64), ('2', np.float64)])\n",
    "W_new = D1_solver(h, N, M, lam, tau, W)\n",
    "x = np.linspace(0, L, N)\n",
    "mat_obr = np.array([[1 / 2, 1 / (2 * rho * lam)], [-1 / 2, 1 / (2 * rho * lam)]])\n",
    "U_new = np.zeros(N, dtype=[('v', np.float64), ('p', np.float64)])\n",
    "U_new = convert(mat_obr, W_new, f=('1', '2'), e=('v', 'p'))"
   ]
  },
  {
   "cell_type": "code",
   "execution_count": null,
   "metadata": {},
   "outputs": [],
   "source": [
    "plt.figure(figsize=(25,25))\n",
    "plt.subplot(2, 2, 1)\n",
    "plt.plot(x, W['1'])\n",
    "plt.plot(x, W_new['1'])\n",
    "plt.subplot(2, 2, 2)\n",
    "plt.plot(x, W['2'])\n",
    "plt.plot(x, W_new['2'])\n",
    "plt.subplot(2, 2, 3)\n",
    "plt.plot(x, U['v'])\n",
    "plt.plot(x, U_new['v'])\n",
    "plt.subplot(2, 2, 4)\n",
    "plt.plot(x, U['p'])\n",
    "plt.plot(x, U_new['p'])"
   ]
  }
 ],
 "metadata": {
  "language_info": {
   "name": "python"
  },
  "orig_nbformat": 4
 },
 "nbformat": 4,
 "nbformat_minor": 2
}
